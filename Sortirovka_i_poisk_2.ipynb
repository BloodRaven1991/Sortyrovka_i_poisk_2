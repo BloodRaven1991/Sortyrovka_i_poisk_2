{
 "cells": [
  {
   "cell_type": "markdown",
   "metadata": {},
   "source": [
    "Задание 2\n",
    "Есть четыре списка целых. Необходимо объединить\n",
    "в пятом списке только те элементы, которые уникальны\n",
    "для каждого списка. Полученный результат в зависимости\n",
    "от выбора пользователя отсортировать по убыванию или\n",
    "возрастанию. Найти значение, введенное пользователем,\n",
    "с использованием бинарного поиска."
   ]
  },
  {
   "cell_type": "code",
   "execution_count": 2,
   "metadata": {},
   "outputs": [
    {
     "name": "stdout",
     "output_type": "stream",
     "text": [
      "Отсортированный уникальный список: [2, 7, 9, 10]\n",
      "Значение 9 найдено на индексе 2.\n"
     ]
    }
   ],
   "source": [
    "list1 = [1, 2, 3, 4]\n",
    "list2 = [3, 4, 5, 6]\n",
    "list3 = [5, 6, 7, 8]\n",
    "list4 = [8, 9, 10, 1]\n",
    "\n",
    "\n",
    "u_list1 = set(list1) - set(list2) - set(list3) - set(list4)\n",
    "u_list2 = set(list2) - set(list1) - set(list3) - set(list4)\n",
    "u_list3 = set(list3) - set(list1) - set(list2) - set(list4)\n",
    "u_list4 = set(list4) - set(list1) - set(list2) - set(list3)\n",
    "\n",
    "list5 = list(u_list1 | u_list2 | u_list3 | u_list4)\n",
    "\n",
    "\n",
    "sort_order = input(\"Введите 'возрастание' или 'убывание': \")\n",
    "if sort_order == \"возрастание\":\n",
    "   list5.sort()\n",
    "elif sort_order == \"убывание\":\n",
    "   list5.sort(reverse=True)\n",
    "else:\n",
    "   print(\"Неверно.\")\n",
    "\n",
    "print(\"Отсортированный уникальный список:\", list5)\n",
    "\n",
    "\n",
    "import bisect\n",
    "\n",
    "a = int(input(\"Введите значение для поиска: \"))\n",
    "\n",
    "def binary_search(lst, value):\n",
    "   b = bisect.bisect_left(lst, value)\n",
    "   if b != len(lst) and lst[b] == value:\n",
    "       return b\n",
    "   return -1\n",
    "\n",
    "b = binary_search(list5, a)\n",
    "\n",
    "if b != -1:\n",
    "   print(f\"Значение {a} найдено на индексе {b}.\")\n",
    "else:\n",
    "   print(f\"Значение {a} не найдено.\")"
   ]
  }
 ],
 "metadata": {
  "kernelspec": {
   "display_name": "Python 3",
   "language": "python",
   "name": "python3"
  },
  "language_info": {
   "codemirror_mode": {
    "name": "ipython",
    "version": 3
   },
   "file_extension": ".py",
   "mimetype": "text/x-python",
   "name": "python",
   "nbconvert_exporter": "python",
   "pygments_lexer": "ipython3",
   "version": "3.12.6"
  }
 },
 "nbformat": 4,
 "nbformat_minor": 2
}
